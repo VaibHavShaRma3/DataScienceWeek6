{
 "cells": [
  {
   "cell_type": "markdown",
   "id": "039ee2c0-d1e2-4fda-8207-e91fffc09c8e",
   "metadata": {},
   "source": [
    "# Data Science Tools and Ecosystem"
   ]
  },
  {
   "cell_type": "markdown",
   "id": "ed78c752-6b65-41af-a0d3-6cb1bd807aa7",
   "metadata": {
    "tags": []
   },
   "source": [
    "# In this notebook, Data Science Tools and Ecosystem are summarized."
   ]
  },
  {
   "cell_type": "markdown",
   "id": "249aa3b7-250f-4141-86bb-1574ce7b6abf",
   "metadata": {
    "tags": []
   },
   "source": [
    "**Objectives:**\n",
    "\n",
    "+ List popular langauges for data science\n",
    "+ Best toolkits for data science\n",
    "+ working with jupyterlabs"
   ]
  },
  {
   "cell_type": "markdown",
   "id": "9bba8df5-1bd8-4bfd-b6bb-d7ddbb1075c1",
   "metadata": {},
   "source": [
    "**Some of the popular languages that Data Scientists use are:**\n",
    "\n",
    "1. Pyhton\n",
    "2. R\n",
    "3. Scala\n",
    "4. Ruby"
   ]
  },
  {
   "cell_type": "markdown",
   "id": "e4cbd197-a1c2-4276-96f9-e51c8bd57c40",
   "metadata": {
    "tags": []
   },
   "source": [
    "**Some of the commonly used libraries used by Data Scientists include:**\n",
    "\n",
    "1. Pandas\n",
    "2. Keras\n",
    "3. Matplotlib\n",
    "4. Seaborn"
   ]
  },
  {
   "cell_type": "markdown",
   "id": "38b82558-5e6c-414a-a175-7a8af999022b",
   "metadata": {},
   "source": [
    "|Data Science Tools|\n",
    "|------------------|\n",
    "|Apache Spark|\n",
    "|Spyder|\n",
    "|Jupyterlabs|"
   ]
  },
  {
   "cell_type": "markdown",
   "id": "7f73dcbe-5d8d-49cb-8c2f-4ede07ff15db",
   "metadata": {},
   "source": [
    "### Below are a few examples of evaluating arithmetic expressions in Python ###"
   ]
  },
  {
   "cell_type": "code",
   "execution_count": 2,
   "id": "12ca9ec3-37e0-4ef0-8900-cb1de9fafa05",
   "metadata": {
    "tags": []
   },
   "outputs": [
    {
     "data": {
      "text/plain": [
       "17"
      ]
     },
     "execution_count": 2,
     "metadata": {},
     "output_type": "execute_result"
    }
   ],
   "source": [
    "# This a simple arithmetic expression to mutiply then add integers\n",
    "(3*4)+5"
   ]
  },
  {
   "cell_type": "code",
   "execution_count": 3,
   "id": "1bfb984c-2ace-4149-bdb9-7204b516ea00",
   "metadata": {
    "tags": []
   },
   "outputs": [
    {
     "data": {
      "text/plain": [
       "3.3333333333333335"
      ]
     },
     "execution_count": 3,
     "metadata": {},
     "output_type": "execute_result"
    }
   ],
   "source": [
    "# This will convert 200 minutes to hours by diving by 60\n",
    "200/60"
   ]
  },
  {
   "cell_type": "markdown",
   "id": "f05a9ffa-0e2f-491e-ab0f-b81964f1b49e",
   "metadata": {},
   "source": [
    "## Author ##\n",
    "Vaibhav Sharma"
   ]
  },
  {
   "cell_type": "code",
   "execution_count": null,
   "id": "148b7950-a2af-4343-99b4-7c9051d0de24",
   "metadata": {},
   "outputs": [],
   "source": []
  }
 ],
 "metadata": {
  "kernelspec": {
   "display_name": "Python 3 (ipykernel)",
   "language": "python",
   "name": "python3"
  },
  "language_info": {
   "codemirror_mode": {
    "name": "ipython",
    "version": 3
   },
   "file_extension": ".py",
   "mimetype": "text/x-python",
   "name": "python",
   "nbconvert_exporter": "python",
   "pygments_lexer": "ipython3",
   "version": "3.11.5"
  }
 },
 "nbformat": 4,
 "nbformat_minor": 5
}
